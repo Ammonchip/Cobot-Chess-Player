{
 "cells": [
  {
   "cell_type": "code",
   "execution_count": 12,
   "metadata": {},
   "outputs": [],
   "source": [
    "import cv2 as cv\n",
    "import numpy as np\n",
    "import math\n",
    "from matplotlib import pyplot as plt "
   ]
  },
  {
   "cell_type": "code",
   "execution_count": 13,
   "metadata": {},
   "outputs": [],
   "source": [
    "#read image\n",
    "img = cv.imread('contourscropped.jpg')\n",
    "\n",
    "#threshold on green\n",
    "#defining lower and upper limits\n",
    "lower = np.array([130, 130, 130])\n",
    "upper = np.array([255, 255, 255])\n",
    "\n",
    "# Create mask to only select black\n",
    "thresh = cv.inRange(img, lower, upper)\n",
    "cv.imwrite(\"thresh.jpg\", thresh)"
   ]
  },
  {
   "cell_type": "code",
   "execution_count": 18,
   "metadata": {},
   "outputs": [
    {
     "name": "stdout",
     "output_type": "stream",
     "text": [
      "area=1371.0\n",
      "area=1442.0\n",
      "area=1503.5\n",
      "area=1442.0\n",
      "area=1404.0\n",
      "area=1405.0\n",
      "area=1434.0\n",
      "area=1444.5\n",
      "area=1428.0\n",
      "area=1411.0\n",
      "area=1412.0\n"
     ]
    }
   ],
   "source": [
    "#searching for rectangles tiles on chessboard\n",
    "try : contours,hierarchy = cv.findContours(image=thresh, mode=cv.RETR_TREE, method=cv.CHAIN_APPROX_NONE)\n",
    "except : print('error')\n",
    "for cnt in contours:\n",
    "    # draw contours on the original image\n",
    "    image_copy = img.copy()\n",
    "    cv.drawContours(image=image_copy, contours=cnt, contourIdx=-1, color=(0, 255, 0), thickness=2, lineType=cv.LINE_AA)\n",
    "    \n",
    "    x,y,w,h = cv.boundingRect(cnt)\n",
    "    area = cv.contourArea(cnt)\n",
    "    #see if the width and height match the chessboard rectangle\n",
    "    if area<1600 and area>1200:\n",
    "        contour = cnt\n",
    "        print('area=' + str(cv.contourArea(cnt)))\n",
    "        cv.imshow('None approximation', image_copy)\n",
    "        cv.waitKey(0)\n",
    "        cv.destroyAllWindows()\n",
    "        "
   ]
  },
  {
   "cell_type": "code",
   "execution_count": null,
   "metadata": {},
   "outputs": [],
   "source": [
    "\n",
    "# apply morphology to remove noises and letters\n",
    "kernel = cv.getStructuringElement(cv.MORPH_ELLIPSE, (20,20))\n",
    "morph = cv.morphologyEx(thresh, cv.MORPH_CLOSE, kernel)\n",
    "\n",
    "#invert morp image\n",
    "mask = 255 - thresh\n",
    "\n",
    "# apply mask to image\n",
    "#result = cv.bitwise_and(img, img, mask=mask)\n",
    "\n",
    "#cv.imshow('thresh', thresh)\n",
    "cv.imshow('morph', morph)\n",
    "cv.imshow('mask', mask)\n",
    "cv.imshow('result', result)\n",
    "cv.waitKey(0)\n",
    "cv.destroyAllWindows()\n",
    "\n",
    "#img = cv.resize(img, (INPUT_SIZE, INPUT_SIZE), interpolation=cv.INTER_AREA)\n",
    "#plt.imshow(img)\n"
   ]
  }
 ],
 "metadata": {
  "kernelspec": {
   "display_name": "virtualenv",
   "language": "python",
   "name": "python3"
  },
  "language_info": {
   "codemirror_mode": {
    "name": "ipython",
    "version": 3
   },
   "file_extension": ".py",
   "mimetype": "text/x-python",
   "name": "python",
   "nbconvert_exporter": "python",
   "pygments_lexer": "ipython3",
   "version": "3.11.0 | packaged by conda-forge | (main, Oct 25 2022, 06:12:32) [MSC v.1929 64 bit (AMD64)]"
  },
  "orig_nbformat": 4,
  "vscode": {
   "interpreter": {
    "hash": "34d9ccd6e1df173290114d8252e41f4954253ca70e22899f2aee1fb470c97103"
   }
  }
 },
 "nbformat": 4,
 "nbformat_minor": 2
}
