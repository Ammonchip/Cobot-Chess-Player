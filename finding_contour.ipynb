{
 "cells": [
  {
   "cell_type": "code",
   "execution_count": 4,
   "metadata": {},
   "outputs": [
    {
     "name": "stdout",
     "output_type": "stream",
     "text": [
      "area=91659.0\n"
     ]
    }
   ],
   "source": [
    "import cv2 as cv\n",
    "import numpy as np\n",
    "import math\n",
    "from matplotlib import pyplot as plt \n",
    "\n",
    "IMAGE_SIZE = 512\n",
    "\n",
    "#read image\n",
    "img = cv.imread('chessboardclean.jpg')\n",
    "hh, ww = img.shape[:2]\n",
    "#pick scaling dactor for IMAGE_SIZE\n",
    "scaling_factor = hh if hh > ww else ww\n",
    "scaling_factor =  IMAGE_SIZE/scaling_factor\n",
    "#reescaling image\n",
    "img = cv.resize(img, None, fx= scaling_factor, fy= scaling_factor, interpolation= cv.INTER_LINEAR)\n",
    "\n",
    "\n",
    "#threshold on green\n",
    "#defining lower and upper limits\n",
    "lower = np.array([130, 130, 130])\n",
    "upper = np.array([255, 255, 255])\n",
    "\n",
    "# Create mask to only select black\n",
    "thresh = cv.inRange(img, lower, upper)\n",
    "cv.imwrite(\"thresh.jpg\", thresh)\n",
    "\n",
    "#generating boundary by threshold\n",
    "try : contours,hierarchy = cv.findContours(image=thresh, mode=cv.RETR_TREE, method=cv.CHAIN_APPROX_NONE)\n",
    "except : print('error')\n",
    "for cnt in contours:\n",
    "    # draw contours on the original image\n",
    "    image_copy = img.copy()\n",
    "    cv.drawContours(image=image_copy, contours=cnt, contourIdx=-1, color=(0, 255, 0), thickness=2, lineType=cv.LINE_AA)\n",
    "    \n",
    "    x,y,w,h = cv.boundingRect(cnt)\n",
    "    area = cv.contourArea(cnt)\n",
    "    #see if the width and height match the chessboard rectangle\n",
    "    if w>290 and h>290 and area<95000 and area>85000:\n",
    "        contour = cnt\n",
    "        print('area=' + str(cv.contourArea(cnt)))\n",
    "        break\n",
    "\n",
    "#crop image by contour\n",
    "image_copy = img.copy()\n",
    "cropped = image_copy[y:y+h, x:x+w]\n",
    "cv.imshow('cropped image', cropped)\n",
    "cv.imwrite('contourscropped.jpg', cropped)\n",
    "cv.waitKey(0)\n",
    "cv.destroyAllWindows()\n",
    "\n",
    "# draw contours on the original image\n",
    "image_copy = img.copy()\n",
    "cv.drawContours(image=image_copy, contours=contour, contourIdx=-1, color=(0, 255, 0), thickness=2, lineType=cv.LINE_AA)\n",
    "                \n",
    "# see the results\n",
    "cv.imshow('None approximation', image_copy)\n",
    "cv.waitKey(0)\n",
    "cv.imwrite('contours_none_image1.jpg', image_copy)\n",
    "cv.destroyAllWindows()"
   ]
  },
  {
   "cell_type": "code",
   "execution_count": 5,
   "metadata": {},
   "outputs": [],
   "source": [
    "#invert morp image\n",
    "mask = 255 - thresh\n",
    "\n",
    "# apply morphology to remove noises and letters\n",
    "kernel = cv.getStructuringElement(cv.MORPH_RECT, (5,5))\n",
    "morph = cv.morphologyEx(mask, cv.MORPH_OPEN, kernel)\n",
    "\n",
    "\n",
    "\n",
    "# apply mask to image\n",
    "result = cv.bitwise_and(img, img, mask=morph)\n",
    "\n",
    "cv.imshow('thresh', thresh)\n",
    "cv.imshow('morph', morph)\n",
    "cv.imshow('mask', mask)\n",
    "cv.imshow('result', result)\n",
    "cv.waitKey(0)\n",
    "cv.destroyAllWindows()"
   ]
  },
  {
   "cell_type": "code",
   "execution_count": 64,
   "metadata": {},
   "outputs": [
    {
     "name": "stdout",
     "output_type": "stream",
     "text": [
      "15\n"
     ]
    }
   ],
   "source": [
    "\n",
    "src = cv.cvtColor(result, cv.COLOR_BGR2GRAY)\n",
    "dst = cv.Canny(src, 50, 200, None, 3)\n",
    "cdst = cv.cvtColor(dst, cv.COLOR_GRAY2BGR)\n",
    "\n",
    "lines = cv.HoughLines(dst, 1, np.pi / 180, 120, None, 0, 0)\n",
    "\n",
    "if lines is not None:\n",
    "    print(len(lines))\n",
    "    for i in range(0, len(lines)):\n",
    "        rho = lines[i][0][0]\n",
    "        theta = lines[i][0][1]\n",
    "        a = math.cos(theta)\n",
    "        b = math.sin(theta)\n",
    "        x0 = a * rho\n",
    "        y0 = b * rho\n",
    "        pt1 = (int(x0 + 1000*(-b)), int(y0 + 1000*(a)))\n",
    "        pt2 = (int(x0 - 1000*(-b)), int(y0 - 1000*(a)))\n",
    "        cv.line(cdst, pt1, pt2, (0, 0, 255), 3, cv.LINE_AA)\n",
    "        #cv.imshow(\"line:\", cdst)\n",
    "        #cv.waitKey()\n",
    "        #cv.destroyAllWindows()\n",
    "cv.imshow(\"Detected Lines (in red) - Probabilistic Line Transform\", cdst)\n",
    "cv.waitKey()\n",
    "cv.destroyAllWindows()\n"
   ]
  }
 ],
 "metadata": {
  "kernelspec": {
   "display_name": "virtualenv",
   "language": "python",
   "name": "python3"
  },
  "language_info": {
   "codemirror_mode": {
    "name": "ipython",
    "version": 3
   },
   "file_extension": ".py",
   "mimetype": "text/x-python",
   "name": "python",
   "nbconvert_exporter": "python",
   "pygments_lexer": "ipython3",
   "version": "3.11.0"
  },
  "orig_nbformat": 4,
  "vscode": {
   "interpreter": {
    "hash": "34d9ccd6e1df173290114d8252e41f4954253ca70e22899f2aee1fb470c97103"
   }
  }
 },
 "nbformat": 4,
 "nbformat_minor": 2
}
