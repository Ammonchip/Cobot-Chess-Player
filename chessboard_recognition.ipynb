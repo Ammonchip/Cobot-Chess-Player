{
 "cells": [
  {
   "cell_type": "code",
   "execution_count": 1,
   "metadata": {},
   "outputs": [],
   "source": [
    "import cv2 as cv\n",
    "import numpy as np\n",
    "import math\n"
   ]
  },
  {
   "cell_type": "code",
   "execution_count": null,
   "metadata": {},
   "outputs": [],
   "source": [
    "INPUT_SIZE = 512"
   ]
  },
  {
   "cell_type": "code",
   "execution_count": 12,
   "metadata": {},
   "outputs": [],
   "source": [
    "\n",
    "img = cv.imread('contourscropped.jpg')\n",
    "#img = cv.resize(img, (INPUT_SIZE, INPUT_SIZE), interpolation=cv.INTER_AREA)\n",
    "#cv.imshow(\"resized image\", img)\n",
    "gray = cv.cvtColor(img, cv.COLOR_BGR2GRAY)\n",
    "\n",
    "edges = cv.Canny(gray, 100, 200)\n",
    "\n",
    "cdst = cv.cvtColor(edges, cv.THRESH_BINARY)\n",
    "cdstP = np.copy(cdst)\n",
    "\n",
    "#lines = cv.HoughLines(edges, 1, np.pi / 180, 100, None, 0, 0)\n",
    "linesP = cv.HoughLinesP(edges, 1, np.pi / 180, 50, None, 0, 0)\n"
   ]
  },
  {
   "cell_type": "markdown",
   "metadata": {},
   "source": [
    "\n",
    "if lines is not None:\n",
    "    for i in range(0, len(lines)):\n",
    "        rho = lines[i][0][0]\n",
    "        theta = lines[i][0][1]\n",
    "        a = math.cos(theta)\n",
    "        b = math.sin(theta)\n",
    "        x0 = a * rho\n",
    "        y0 = b * rho\n",
    "        pt1 = (int(x0 + 1000*(-b)), int(y0 + 1000*(a)))\n",
    "        pt2 = (int(x0 - 1000*(-b)), int(y0 - 1000*(a)))\n",
    "\n",
    "        cv.line(cdst, pt1, pt2, (0, 0, 255), 3, cv.LINE_AA)\n"
   ]
  },
  {
   "cell_type": "code",
   "execution_count": 13,
   "metadata": {},
   "outputs": [],
   "source": [
    "# Draw the lines\n",
    "if linesP is not None:\n",
    "    for i in range(0, len(linesP)):\n",
    "        l = linesP[i][0]\n",
    "        cv.line(cdstP, (l[0], l[1]), (l[2], l[3]), (0, 0, 255), 3, cv.LINE_AA)\n"
   ]
  },
  {
   "cell_type": "code",
   "execution_count": 14,
   "metadata": {},
   "outputs": [],
   "source": [
    "\n",
    "cv.imshow(\"thresh\", gray)\n",
    "cv.imshow(\"Detected Lines (in red) - Standard Hough Line Transform\", cdstP)\n",
    "\n",
    "cv.imshow(\"Shapes\", img)\n",
    "cv.waitKey(0)\n",
    "cv.destroyAllWindows()"
   ]
  }
 ],
 "metadata": {
  "kernelspec": {
   "display_name": "virtualenv",
   "language": "python",
   "name": "python3"
  },
  "language_info": {
   "codemirror_mode": {
    "name": "ipython",
    "version": 3
   },
   "file_extension": ".py",
   "mimetype": "text/x-python",
   "name": "python",
   "nbconvert_exporter": "python",
   "pygments_lexer": "ipython3",
   "version": "3.11.0"
  },
  "orig_nbformat": 4,
  "vscode": {
   "interpreter": {
    "hash": "34d9ccd6e1df173290114d8252e41f4954253ca70e22899f2aee1fb470c97103"
   }
  }
 },
 "nbformat": 4,
 "nbformat_minor": 2
}
