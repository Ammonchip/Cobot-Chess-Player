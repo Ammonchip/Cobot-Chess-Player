{
 "cells": [
  {
   "cell_type": "code",
   "execution_count": 1,
   "metadata": {},
   "outputs": [],
   "source": [
    "import cv2 as cv\n",
    "import numpy as np\n",
    "import math\n"
   ]
  },
  {
   "cell_type": "code",
   "execution_count": 2,
   "metadata": {},
   "outputs": [],
   "source": [
    "INPUT_SIZE = 512"
   ]
  },
  {
   "cell_type": "code",
   "execution_count": 7,
   "metadata": {},
   "outputs": [],
   "source": [
    "\n",
    "img = cv.imread(\"chessboardclean.jpg\")\n",
    "img = cv.resize(img, (INPUT_SIZE, INPUT_SIZE), interpolation=cv.INTER_AREA)\n",
    "cv.imshow(\"resized image\", img)\n",
    "gray = cv.cvtColor(img, cv.COLOR_BGR2GRAY)\n",
    "_, binary = cv.threshold(img,90,255,cv.THRESH_BINARY)\n",
    "binary = cv.cvtColor(img, cv.COLOR_BGR2GRAY)\n",
    "cv.imshow(\"binary image\", binary)\n",
    "edges = cv.Canny(gray, 0, 100)\n",
    "\n",
    "cdst = cv.cvtColor(edges, cv.COLOR_GRAY2BGR)\n",
    "\n",
    "lines = cv.HoughLines(edges, 1, np.pi / 180, 100, None, 0, 0)\n",
    "\n",
    "if lines is not None:\n",
    "    for i in range(0, len(lines)):\n",
    "        rho = lines[i][0][0]\n",
    "        theta = lines[i][0][1]\n",
    "        a = math.cos(theta)\n",
    "        b = math.sin(theta)\n",
    "        x0 = a * rho\n",
    "        y0 = b * rho\n",
    "        pt1 = (int(x0 + 1000*(-b)), int(y0 + 1000*(a)))\n",
    "        pt2 = (int(x0 - 1000*(-b)), int(y0 - 1000*(a)))\n",
    "\n",
    "        cv.line(cdst, pt1, pt2, (0, 0, 255), 3, cv.LINE_AA)\n",
    "\n",
    "cv.imshow(\"thresh\", gray)\n",
    "cv.imshow(\"Detected Lines (in red) - Standard Hough Line Transform\", cdst)\n",
    "\n",
    "cv.imshow(\"Edges\", edges)\n",
    "cv.waitKey(0)\n",
    "cv.destroyAllWindows()"
   ]
  }
 ],
 "metadata": {
  "kernelspec": {
   "display_name": "virtualenv_20230126",
   "language": "python",
   "name": "python3"
  },
  "language_info": {
   "codemirror_mode": {
    "name": "ipython",
    "version": 3
   },
   "file_extension": ".py",
   "mimetype": "text/x-python",
   "name": "python",
   "nbconvert_exporter": "python",
   "pygments_lexer": "ipython3",
   "version": "3.11.0"
  },
  "orig_nbformat": 4,
  "vscode": {
   "interpreter": {
    "hash": "f8d31108ea70f98842b3a628aefb1b4862b240f9761389602acb62ed069808a3"
   }
  }
 },
 "nbformat": 4,
 "nbformat_minor": 2
}
